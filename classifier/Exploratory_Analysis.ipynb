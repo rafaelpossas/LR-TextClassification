{
 "cells": [
  {
   "cell_type": "code",
   "execution_count": 52,
   "metadata": {
    "collapsed": false
   },
   "outputs": [],
   "source": [
    "import logging, time, argparse, random\n",
    "from Base import Base\n",
    "from LogisticRegression import LogisticRegression\n",
    "from sklearn.metrics import precision_recall_fscore_support\n",
    "from sklearn.naive_bayes import GaussianNB\n",
    "from sklearn.naive_bayes import MultinomialNB\n",
    "from sklearn.neighbors import KNeighborsClassifier"
   ]
  },
  {
   "cell_type": "code",
   "execution_count": 2,
   "metadata": {
    "collapsed": false
   },
   "outputs": [],
   "source": [
    "l = 0.3\n",
    "\n",
    "logging.basicConfig(filename='resultslogistic.log', level=logging.INFO)\n",
    "logging.info('Starting Logistic Regression proccess ith lambda {}'.format(l))\n",
    "\n",
    "b = Base(\"../assignment1_2016S1/training_data.csv\",\n",
    "         \"../assignment1_2016S1/training_labels.csv\",\n",
    "         \"../assignment1_2016S1/test_data.csv\")\n",
    "## load data\n",
    "start_time = time.time()\n",
    "logging.info('Loading data')\n",
    "X_train, y_train, X_test, test_names = b.load_data()\n",
    "logging.info(\"--- %s seconds ---\" % (time.time() - start_time))\n",
    "m, n = X_train.shape"
   ]
  },
  {
   "cell_type": "markdown",
   "metadata": {},
   "source": [
    "# PCA"
   ]
  },
  {
   "cell_type": "code",
   "execution_count": 3,
   "metadata": {
    "collapsed": false
   },
   "outputs": [
    {
     "data": {
      "text/plain": [
       "612.0232906341553"
      ]
     },
     "execution_count": 3,
     "metadata": {},
     "output_type": "execute_result"
    }
   ],
   "source": [
    "start_time = time.time()\n",
    "time_pca = 0\n",
    "logging.info('Reduce matrix using PCA')\n",
    "X_train_pca = b.dimension_reduction(X_train, \"pca\",0.9)\n",
    "m,n = X_train.shape\n",
    "X_test_pca = b.dimension_reduction(X_test, \"pca\",0.90)\n",
    "time_pca = (time.time() - start_time)\n",
    "time_pca"
   ]
  },
  {
   "cell_type": "markdown",
   "metadata": {},
   "source": [
    "# Logistic Regression Algorithm"
   ]
  },
  {
   "cell_type": "code",
   "execution_count": 4,
   "metadata": {
    "collapsed": false
   },
   "outputs": [
    {
     "name": "stdout",
     "output_type": "stream",
     "text": [
      "Logistic Regression Class created\n"
     ]
    }
   ],
   "source": [
    "clf = LogisticRegression()"
   ]
  },
  {
   "cell_type": "markdown",
   "metadata": {},
   "source": [
    "## Cross Validation without PCA"
   ]
  },
  {
   "cell_type": "code",
   "execution_count": 6,
   "metadata": {
    "collapsed": false
   },
   "outputs": [
    {
     "name": "stdout",
     "output_type": "stream",
     "text": [
      "cross validation iteration 0\n",
      "Accuracy: 0.6628543013426156\n",
      "cross validation iteration 1\n",
      "Accuracy: 0.6673296867230234\n",
      "cross validation iteration 2\n",
      "Accuracy: 0.6464445549477872\n",
      "cross validation iteration 3\n",
      "Accuracy: 0.6747886623570363\n",
      "cross validation iteration 4\n",
      "Accuracy: 0.6592039800995025\n",
      "cross validation iteration 5\n",
      "Accuracy: 0.6666666666666666\n",
      "cross validation iteration 6\n",
      "Accuracy: 0.6621890547263681\n",
      "cross validation iteration 7\n",
      "Accuracy: 0.6711442786069651\n",
      "cross validation iteration 8\n",
      "Accuracy: 0.6308457711442786\n",
      "cross validation iteration 9\n",
      "Accuracy: 0.6467661691542289\n"
     ]
    },
    {
     "data": {
      "text/plain": [
       "1953.0766277313232"
      ]
     },
     "execution_count": 6,
     "metadata": {},
     "output_type": "execute_result"
    }
   ],
   "source": [
    "logging.info('Starting 10-fold cross validation')\n",
    "start_time = time.time()\n",
    "time_cross_log_no_pca = 0\n",
    "\n",
    "k = 10\n",
    "results_log_cross_no_pca = []\n",
    "expected_log_cross_no_pca = []\n",
    "c_cross = 0\n",
    "\n",
    "## call training and validation indexes\n",
    "for training, validation in b.cross_validation(k, m):\n",
    "    print('cross validation iteration {}'.format(c_cross))\n",
    "\n",
    "    ## list of labels in training and validation\n",
    "    y_train_cross = [y_train[y] for y in training]\n",
    "    y_val_cross = [y_train[y] for y in validation]\n",
    "\n",
    "    ## train and predict in validation data\n",
    "    clf.fit(X_train[training], y_train_cross, l)\n",
    "    y_pred = clf.predict(X_train[validation])\n",
    "\n",
    "    ## append results\n",
    "    results_log_cross_no_pca.append(y_pred)\n",
    "    expected_log_cross_no_pca.append(y_val_cross)\n",
    "    print(\"Accuracy: \"+str(clf.score(y_pred,y_val_cross)))\n",
    "    \n",
    "    c_cross += 1\n",
    "\n",
    "## calculate and store averaged results and duration\n",
    "time_cross_log_no_pca = (time.time() - start_time)\n",
    "time_cross_log_no_pca"
   ]
  },
  {
   "cell_type": "code",
   "execution_count": 27,
   "metadata": {
    "collapsed": false
   },
   "outputs": [
    {
     "data": {
      "text/plain": [
       "(0.65620585009019194,\n",
       " 0.012811885373577532,\n",
       " 0.66371565885132233,\n",
       " 0.01308581930956914,\n",
       " 0.65374331867532842,\n",
       " 0.012864650319925985)"
      ]
     },
     "execution_count": 27,
     "metadata": {},
     "output_type": "execute_result"
    }
   ],
   "source": [
    "precall_res_log_no_pca = []\n",
    "for res,exp in zip(results_log_cross_no_pca,expected_log_cross_no_pca):\n",
    "    precall_res_log_no_pca.append(precision_recall_fscore_support(res, exp, average='macro'))\n",
    "b.get_precision_recall_fscore_overall(precall_res_log_no_pca,10)"
   ]
  },
  {
   "cell_type": "markdown",
   "metadata": {},
   "source": [
    "## Cross Validation with PCA"
   ]
  },
  {
   "cell_type": "code",
   "execution_count": 7,
   "metadata": {
    "collapsed": false
   },
   "outputs": [
    {
     "name": "stdout",
     "output_type": "stream",
     "text": [
      "cross validation iteration 0\n",
      "Accuracy: 0.6111387369467927\n",
      "cross validation iteration 1\n",
      "Accuracy: 0.6330183988065639\n",
      "cross validation iteration 2\n",
      "Accuracy: 0.6220785678766783\n",
      "cross validation iteration 3\n",
      "Accuracy: 0.6141223272003978\n",
      "cross validation iteration 4\n",
      "Accuracy: 0.6169154228855721\n",
      "cross validation iteration 5\n",
      "Accuracy: 0.6144278606965174\n",
      "cross validation iteration 6\n",
      "Accuracy: 0.608955223880597\n",
      "cross validation iteration 7\n",
      "Accuracy: 0.6044776119402985\n",
      "cross validation iteration 8\n",
      "Accuracy: 0.6203980099502487\n",
      "cross validation iteration 9\n",
      "Accuracy: 0.6263681592039801\n"
     ]
    },
    {
     "data": {
      "text/plain": [
       "2266.1346893310547"
      ]
     },
     "execution_count": 7,
     "metadata": {},
     "output_type": "execute_result"
    }
   ],
   "source": [
    "logging.info('Starting 10-fold cross validation')\n",
    "start_time = time.time()\n",
    "time_cross_log_pca = 0\n",
    "\n",
    "k = 10\n",
    "results_log_cross_pca = []\n",
    "expected_log_cross_pca = []\n",
    "c_cross = 0\n",
    "\n",
    "## call training and validation indexes\n",
    "for training, validation in b.cross_validation(k, m):\n",
    "    print('cross validation iteration {}'.format(c_cross))\n",
    "\n",
    "    ## list of labels in training and validation\n",
    "    y_train_cross = [y_train[y] for y in training]\n",
    "    y_val_cross = [y_train[y] for y in validation]\n",
    "\n",
    "    ## train and predict in validation data\n",
    "    clf.fit(X_train_pca[training], y_train_cross, l)\n",
    "    y_pred = clf.predict(X_train_pca[validation])\n",
    "\n",
    "    ## append results\n",
    "    results_log_cross_pca.append(y_pred)\n",
    "    expected_log_cross_pca.append(y_val_cross)\n",
    "    print(\"Accuracy: \"+str(clf.score(y_pred,y_val_cross)))\n",
    "    \n",
    "    c_cross += 1\n",
    "\n",
    "## calculate and store averaged results and duration\n",
    "time_cross_log_pca = (time.time() - start_time)\n",
    "time_cross_log_pca"
   ]
  },
  {
   "cell_type": "code",
   "execution_count": 29,
   "metadata": {
    "collapsed": false
   },
   "outputs": [
    {
     "data": {
      "text/plain": [
       "(0.61416249481135499,\n",
       " 0.0075669990767129845,\n",
       " 0.60804650838425367,\n",
       " 0.007510505134974536,\n",
       " 0.59987324371955886,\n",
       " 0.007468705041030205)"
      ]
     },
     "execution_count": 29,
     "metadata": {},
     "output_type": "execute_result"
    }
   ],
   "source": [
    "precall_res_log_pca = []\n",
    "for res,exp in zip(results_log_cross_pca,expected_log_cross_pca):\n",
    "    precall_res_log_pca.append(precision_recall_fscore_support(res, exp, average='macro'))\n",
    "b.get_precision_recall_fscore_overall(precall_res_log_pca,10)"
   ]
  },
  {
   "cell_type": "markdown",
   "metadata": {},
   "source": [
    "## 2/3 - 1/3 Split"
   ]
  },
  {
   "cell_type": "code",
   "execution_count": 10,
   "metadata": {
    "collapsed": false
   },
   "outputs": [
    {
     "data": {
      "text/plain": [
       "140.74104189872742"
      ]
     },
     "execution_count": 10,
     "metadata": {},
     "output_type": "execute_result"
    }
   ],
   "source": [
    "logging.info('Training in 2/3 of data and testing in 1/3 of data')\n",
    "start_time = time.time()\n",
    "result_log_split = []\n",
    "time_log_split_no_pca = 0\n",
    "\n",
    "## split the dataset\n",
    "items = list(range(m))\n",
    "random.shuffle(items)\n",
    "training = items[m // 3:]\n",
    "testing = items[:m // 3]\n",
    "\n",
    "## list of labels in training and testing\n",
    "y_val = [y_train[y] for y in training]\n",
    "y_test = [y_train[y] for y in testing]\n",
    "\n",
    "## train and predict in testing data\n",
    "clf.fit(X_train[training], y_val, l)\n",
    "result_log_split = clf.predict(X_train[testing])\n",
    "\n",
    "time_log_split_no_pca = (time.time() - start_time)\n",
    "## confusion matrix\n",
    "#b.plot_confusion_matrix(y_test, result_split_no_pca, clf.list_classes)\n",
    "time_log_split_no_pca"
   ]
  },
  {
   "cell_type": "code",
   "execution_count": 16,
   "metadata": {
    "collapsed": false
   },
   "outputs": [
    {
     "data": {
      "text/plain": [
       "0.6494553051783316"
      ]
     },
     "execution_count": 16,
     "metadata": {},
     "output_type": "execute_result"
    }
   ],
   "source": [
    "clf.score(result_log_split,y_test)"
   ]
  },
  {
   "cell_type": "markdown",
   "metadata": {},
   "source": [
    "## 2/3 - 1/3 Split PCA"
   ]
  },
  {
   "cell_type": "code",
   "execution_count": 18,
   "metadata": {
    "collapsed": false
   },
   "outputs": [
    {
     "data": {
      "text/plain": [
       "148.41272068023682"
      ]
     },
     "execution_count": 18,
     "metadata": {},
     "output_type": "execute_result"
    }
   ],
   "source": [
    "logging.info('Training in 2/3 of data and testing in 1/3 of data')\n",
    "start_time = time.time()\n",
    "result_log_split_pca = []\n",
    "time_log_split_pca = 0\n",
    "\n",
    "## split the dataset\n",
    "items = list(range(m))\n",
    "random.shuffle(items)\n",
    "training = items[m // 3:]\n",
    "testing = items[:m // 3]\n",
    "\n",
    "## list of labels in training and testing\n",
    "y_val_log_pca = [y_train[y] for y in training]\n",
    "y_test_log_pca = [y_train[y] for y in testing]\n",
    "\n",
    "## train and predict in testing data\n",
    "clf.fit(X_train_pca[training], y_val_log_pca, l)\n",
    "result_log_split_pca = clf.predict(X_train_pca[testing])\n",
    "\n",
    "time_log_split_pca = (time.time() - start_time)\n",
    "## confusion matrix\n",
    "#b.plot_confusion_matrix(y_test, result_split_pca, clf.list_classes)\n",
    "time_log_split_pca"
   ]
  },
  {
   "cell_type": "code",
   "execution_count": 19,
   "metadata": {
    "collapsed": false
   },
   "outputs": [
    {
     "data": {
      "text/plain": [
       "0.6196090135800627"
      ]
     },
     "execution_count": 19,
     "metadata": {},
     "output_type": "execute_result"
    }
   ],
   "source": [
    "clf.score(y_test_log_pca,result_log_split_pca)"
   ]
  },
  {
   "cell_type": "markdown",
   "metadata": {},
   "source": [
    "## Test Set"
   ]
  },
  {
   "cell_type": "code",
   "execution_count": null,
   "metadata": {
    "collapsed": true
   },
   "outputs": [],
   "source": [
    "start_time = time.time()\n",
    "time_log_test_set = 0\n",
    "result_log_test = []\n",
    "## train and predict in testing data\n",
    "clf.fit(X_train, y_train, lmda)\n",
    "result_log_test = clf.predict(X_test)\n",
    "results = zip(test_names,result_log_test)\n",
    "b.save_data(results,'test_data.csv')\n",
    "time_log_test_set = (time.time() - start_time)\n",
    "time_log_test_set"
   ]
  },
  {
   "cell_type": "markdown",
   "metadata": {},
   "source": [
    "## Test Set PCA"
   ]
  },
  {
   "cell_type": "code",
   "execution_count": 17,
   "metadata": {
    "collapsed": false
   },
   "outputs": [
    {
     "ename": "NameError",
     "evalue": "name 'lmda' is not defined",
     "traceback": [
      "\u001b[1;31m---------------------------------------------------------------------------\u001b[0m",
      "\u001b[1;31mNameError\u001b[0m                                 Traceback (most recent call last)",
      "\u001b[1;32m<ipython-input-17-cfd88f35fc7f>\u001b[0m in \u001b[0;36m<module>\u001b[1;34m()\u001b[0m\n\u001b[0;32m      3\u001b[0m \u001b[0mresult_test\u001b[0m \u001b[1;33m=\u001b[0m \u001b[1;33m[\u001b[0m\u001b[1;33m]\u001b[0m\u001b[1;33m\u001b[0m\u001b[0m\n\u001b[0;32m      4\u001b[0m \u001b[1;31m## train and predict in testing data\u001b[0m\u001b[1;33m\u001b[0m\u001b[1;33m\u001b[0m\u001b[0m\n\u001b[1;32m----> 5\u001b[1;33m \u001b[0mclf\u001b[0m\u001b[1;33m.\u001b[0m\u001b[0mfit\u001b[0m\u001b[1;33m(\u001b[0m\u001b[0mX_train_pca\u001b[0m\u001b[1;33m,\u001b[0m \u001b[0my_train\u001b[0m\u001b[1;33m,\u001b[0m \u001b[0mlmda\u001b[0m\u001b[1;33m)\u001b[0m\u001b[1;33m\u001b[0m\u001b[0m\n\u001b[0m\u001b[0;32m      6\u001b[0m \u001b[0mresult_logtest\u001b[0m \u001b[1;33m=\u001b[0m \u001b[0mclf\u001b[0m\u001b[1;33m.\u001b[0m\u001b[0mpredict\u001b[0m\u001b[1;33m(\u001b[0m\u001b[0mX_test_pca\u001b[0m\u001b[1;33m)\u001b[0m\u001b[1;33m\u001b[0m\u001b[0m\n\u001b[0;32m      7\u001b[0m \u001b[0mresults\u001b[0m \u001b[1;33m=\u001b[0m \u001b[0mzip\u001b[0m\u001b[1;33m(\u001b[0m\u001b[0mtest_names\u001b[0m\u001b[1;33m,\u001b[0m\u001b[0mresult_test\u001b[0m\u001b[1;33m)\u001b[0m\u001b[1;33m\u001b[0m\u001b[0m\n",
      "\u001b[1;31mNameError\u001b[0m: name 'lmda' is not defined"
     ],
     "output_type": "error"
    }
   ],
   "source": [
    "start_time = time.time()\n",
    "time_log_test_set_pca = 0\n",
    "result_log_test_pca = []\n",
    "## train and predict in testing data\n",
    "clf.fit(X_train_pca, y_train, lmda)\n",
    "result_log_test_pca = clf.predict(X_test_pca)\n",
    "results = zip(test_names,result_log_test_pca)\n",
    "b.save_data(results,'test_data.csv')\n",
    "time_log_test_set_pca = (time.time() - start_time)\n",
    "time_log_test_set_pca"
   ]
  },
  {
   "cell_type": "markdown",
   "metadata": {
    "collapsed": true
   },
   "source": [
    "# Gaussian Naive Bayes"
   ]
  },
  {
   "cell_type": "code",
   "execution_count": 31,
   "metadata": {
    "collapsed": true
   },
   "outputs": [],
   "source": [
    "clf = GaussianNB()"
   ]
  },
  {
   "cell_type": "markdown",
   "metadata": {},
   "source": [
    "## Cross Validation without PCA"
   ]
  },
  {
   "cell_type": "code",
   "execution_count": 34,
   "metadata": {
    "collapsed": false
   },
   "outputs": [
    {
     "name": "stdout",
     "output_type": "stream",
     "text": [
      "cross validation iteration 0\n",
      "cross validation iteration 1\n",
      "cross validation iteration 2\n",
      "cross validation iteration 3\n",
      "cross validation iteration 4\n",
      "cross validation iteration 5\n",
      "cross validation iteration 6\n",
      "cross validation iteration 7\n",
      "cross validation iteration 8\n",
      "cross validation iteration 9\n"
     ]
    },
    {
     "data": {
      "text/plain": [
       "99.09266424179077"
      ]
     },
     "execution_count": 34,
     "metadata": {},
     "output_type": "execute_result"
    }
   ],
   "source": [
    "logging.info('Starting 10-fold cross validation')\n",
    "start_time = time.time()\n",
    "time_cross_gnb_no_pca = 0\n",
    "\n",
    "k = 10\n",
    "results_gnb_cross_no_pca = []\n",
    "expected_gnb_cross_no_pca = []\n",
    "c_cross = 0\n",
    "\n",
    "## call training and validation indexes\n",
    "for training, validation in b.cross_validation(k, m):\n",
    "    print('cross validation iteration {}'.format(c_cross))\n",
    "\n",
    "    ## list of labels in training and validation\n",
    "    y_train_cross = [y_train[y] for y in training]\n",
    "    y_val_cross = [y_train[y] for y in validation]\n",
    "\n",
    "    ## train and predict in validation data\n",
    "    clf.fit(X_train[training], y_train_cross)\n",
    "    y_pred = clf.predict(X_train[validation])\n",
    "\n",
    "    ## append results\n",
    "    results_gnb_cross_no_pca.append(y_pred)\n",
    "    expected_gnb_cross_no_pca.append(y_val_cross)\n",
    "    \n",
    "    c_cross += 1\n",
    "\n",
    "## calculate and store averaged results and duration\n",
    "time_cross_gnb_no_pca = (time.time() - start_time)\n",
    "time_cross_gnb_no_pca"
   ]
  },
  {
   "cell_type": "code",
   "execution_count": 35,
   "metadata": {
    "collapsed": false
   },
   "outputs": [
    {
     "data": {
      "text/plain": [
       "(0.44338979104758414,\n",
       " 0.011183814237737738,\n",
       " 0.45091058637052972,\n",
       " 0.0125824423440414,\n",
       " 0.44290864017472265,\n",
       " 0.011339273950491)"
      ]
     },
     "execution_count": 35,
     "metadata": {},
     "output_type": "execute_result"
    }
   ],
   "source": [
    "precall_res_gnb = []\n",
    "for res,exp in zip(results_gnb_cross_no_pca,expected_gnb_cross_no_pca):\n",
    "    precall_res_gnb.append(precision_recall_fscore_support(res, exp, average='macro'))\n",
    "b.get_precision_recall_fscore_overall(precall_res_gnb,10)"
   ]
  },
  {
   "cell_type": "markdown",
   "metadata": {},
   "source": [
    "## Cross Validation with PCA"
   ]
  },
  {
   "cell_type": "code",
   "execution_count": 38,
   "metadata": {
    "collapsed": false
   },
   "outputs": [
    {
     "name": "stdout",
     "output_type": "stream",
     "text": [
      "cross validation iteration 0\n",
      "cross validation iteration 1\n",
      "cross validation iteration 2\n",
      "cross validation iteration 3\n",
      "cross validation iteration 4\n",
      "cross validation iteration 5\n",
      "cross validation iteration 6\n",
      "cross validation iteration 7\n",
      "cross validation iteration 8\n",
      "cross validation iteration 9\n"
     ]
    },
    {
     "data": {
      "text/plain": [
       "31.824105501174927"
      ]
     },
     "execution_count": 38,
     "metadata": {},
     "output_type": "execute_result"
    }
   ],
   "source": [
    "logging.info('Starting 10-fold cross validation')\n",
    "start_time = time.time()\n",
    "time_cross_gnb_pca = 0\n",
    "\n",
    "k = 10\n",
    "results_gnb_cross_pca = []\n",
    "expected_gnb_cross_pca = []\n",
    "c_cross = 0\n",
    "\n",
    "## call training and validation indexes\n",
    "for training, validation in b.cross_validation(k, m):\n",
    "    print('cross validation iteration {}'.format(c_cross))\n",
    "\n",
    "    ## list of labels in training and validation\n",
    "    y_train_cross = [y_train[y] for y in training]\n",
    "    y_val_cross = [y_train[y] for y in validation]\n",
    "\n",
    "    ## train and predict in validation data\n",
    "    clf.fit(X_train_pca[training], y_train_cross)\n",
    "    y_pred = clf.predict(X_train_pca[validation])\n",
    "\n",
    "    ## append results\n",
    "    results_gnb_cross_pca.append(y_pred)\n",
    "    expected_gnb_cross_pca.append(y_val_cross)\n",
    "    \n",
    "    c_cross += 1\n",
    "\n",
    "## calculate and store averaged results and duration\n",
    "time_cross_gnb_pca = (time.time() - start_time)\n",
    "time_cross_gnb_pca"
   ]
  },
  {
   "cell_type": "code",
   "execution_count": 40,
   "metadata": {
    "collapsed": false
   },
   "outputs": [
    {
     "data": {
      "text/plain": [
       "(0.14903055008739466,\n",
       " 0.010761382435128756,\n",
       " 0.31356060823863535,\n",
       " 0.017264945571249014,\n",
       " 0.15383318503157889,\n",
       " 0.010485893075177834)"
      ]
     },
     "execution_count": 40,
     "metadata": {},
     "output_type": "execute_result"
    }
   ],
   "source": [
    "precall_res_gnb_pca = []\n",
    "for res,exp in zip(results_gnb_cross_pca,expected_gnb_cross_pca):\n",
    "    precall_res_gnb_pca.append(precision_recall_fscore_support(res, exp, average='macro'))\n",
    "b.get_precision_recall_fscore_overall(precall_res_gnb_pca,10)"
   ]
  },
  {
   "cell_type": "markdown",
   "metadata": {},
   "source": [
    "# Multinomial Naive Bayes"
   ]
  },
  {
   "cell_type": "markdown",
   "metadata": {},
   "source": [
    "## Cross Validation without PCA"
   ]
  },
  {
   "cell_type": "code",
   "execution_count": 43,
   "metadata": {
    "collapsed": true
   },
   "outputs": [],
   "source": [
    "clf = MultinomialNB()"
   ]
  },
  {
   "cell_type": "code",
   "execution_count": 44,
   "metadata": {
    "collapsed": false
   },
   "outputs": [
    {
     "name": "stdout",
     "output_type": "stream",
     "text": [
      "cross validation iteration 0\n",
      "cross validation iteration 1\n",
      "cross validation iteration 2\n",
      "cross validation iteration 3\n",
      "cross validation iteration 4\n",
      "cross validation iteration 5\n",
      "cross validation iteration 6\n",
      "cross validation iteration 7\n",
      "cross validation iteration 8\n",
      "cross validation iteration 9\n"
     ]
    },
    {
     "data": {
      "text/plain": [
       "17.00609016418457"
      ]
     },
     "execution_count": 44,
     "metadata": {},
     "output_type": "execute_result"
    }
   ],
   "source": [
    "logging.info('Starting 10-fold cross validation')\n",
    "start_time = time.time()\n",
    "time_cross_mnb_no_pca = 0\n",
    "\n",
    "k = 10\n",
    "results_mnb_cross_no_pca = []\n",
    "expected_mnb_cross_no_pca = []\n",
    "c_cross = 0\n",
    "\n",
    "## call training and validation indexes\n",
    "for training, validation in b.cross_validation(k, m):\n",
    "    print('cross validation iteration {}'.format(c_cross))\n",
    "\n",
    "    ## list of labels in training and validation\n",
    "    y_train_cross = [y_train[y] for y in training]\n",
    "    y_val_cross = [y_train[y] for y in validation]\n",
    "\n",
    "    ## train and predict in validation data\n",
    "    clf.fit(X_train[training], y_train_cross)\n",
    "    y_pred = clf.predict(X_train[validation])\n",
    "\n",
    "    ## append results\n",
    "    results_mnb_cross_no_pca.append(y_pred)\n",
    "    expected_mnb_cross_no_pca.append(y_val_cross)\n",
    "    \n",
    "    c_cross += 1\n",
    "\n",
    "## calculate and store averaged results and duration\n",
    "time_cross_mnb_no_pca = (time.time() - start_time)\n",
    "time_cross_mnb_no_pca"
   ]
  },
  {
   "cell_type": "code",
   "execution_count": 45,
   "metadata": {
    "collapsed": false
   },
   "outputs": [
    {
     "data": {
      "text/plain": [
       "(0.6194129684931069,\n",
       " 0.007275881532495411,\n",
       " 0.65703534531866004,\n",
       " 0.009344078543092724,\n",
       " 0.61142729803667206,\n",
       " 0.007568187928998158)"
      ]
     },
     "execution_count": 45,
     "metadata": {},
     "output_type": "execute_result"
    }
   ],
   "source": [
    "precall_res_mnb = []\n",
    "for res,exp in zip(results_mnb_cross_no_pca,expected_mnb_cross_no_pca):\n",
    "    precall_res_mnb.append(precision_recall_fscore_support(res, exp, average='macro'))\n",
    "b.get_precision_recall_fscore_overall(precall_res_mnb,10)"
   ]
  },
  {
   "cell_type": "markdown",
   "metadata": {},
   "source": [
    "## Cross Validation with PCA"
   ]
  },
  {
   "cell_type": "code",
   "execution_count": 46,
   "metadata": {
    "collapsed": false
   },
   "outputs": [
    {
     "name": "stdout",
     "output_type": "stream",
     "text": [
      "cross validation iteration 0\n"
     ]
    },
    {
     "ename": "ValueError",
     "evalue": "Input X must be non-negative",
     "traceback": [
      "\u001b[1;31m---------------------------------------------------------------------------\u001b[0m",
      "\u001b[1;31mValueError\u001b[0m                                Traceback (most recent call last)",
      "\u001b[1;32m<ipython-input-46-735ce167b534>\u001b[0m in \u001b[0;36m<module>\u001b[1;34m()\u001b[0m\n\u001b[0;32m     17\u001b[0m \u001b[1;33m\u001b[0m\u001b[0m\n\u001b[0;32m     18\u001b[0m     \u001b[1;31m## train and predict in validation data\u001b[0m\u001b[1;33m\u001b[0m\u001b[1;33m\u001b[0m\u001b[0m\n\u001b[1;32m---> 19\u001b[1;33m     \u001b[0mclf\u001b[0m\u001b[1;33m.\u001b[0m\u001b[0mfit\u001b[0m\u001b[1;33m(\u001b[0m\u001b[0mX_train_pca\u001b[0m\u001b[1;33m[\u001b[0m\u001b[0mtraining\u001b[0m\u001b[1;33m]\u001b[0m\u001b[1;33m,\u001b[0m \u001b[0my_train_cross\u001b[0m\u001b[1;33m)\u001b[0m\u001b[1;33m\u001b[0m\u001b[0m\n\u001b[0m\u001b[0;32m     20\u001b[0m     \u001b[0my_pred\u001b[0m \u001b[1;33m=\u001b[0m \u001b[0mclf\u001b[0m\u001b[1;33m.\u001b[0m\u001b[0mpredict\u001b[0m\u001b[1;33m(\u001b[0m\u001b[0mX_train_pca\u001b[0m\u001b[1;33m[\u001b[0m\u001b[0mvalidation\u001b[0m\u001b[1;33m]\u001b[0m\u001b[1;33m)\u001b[0m\u001b[1;33m\u001b[0m\u001b[0m\n\u001b[0;32m     21\u001b[0m \u001b[1;33m\u001b[0m\u001b[0m\n",
      "\u001b[1;32mC:\\Users\\rafae\\Anaconda3\\lib\\site-packages\\sklearn\\naive_bayes.py\u001b[0m in \u001b[0;36mfit\u001b[1;34m(self, X, y, sample_weight)\u001b[0m\n\u001b[0;32m    550\u001b[0m         self.feature_count_ = np.zeros((n_effective_classes, n_features),\n\u001b[0;32m    551\u001b[0m                                        dtype=np.float64)\n\u001b[1;32m--> 552\u001b[1;33m         \u001b[0mself\u001b[0m\u001b[1;33m.\u001b[0m\u001b[0m_count\u001b[0m\u001b[1;33m(\u001b[0m\u001b[0mX\u001b[0m\u001b[1;33m,\u001b[0m \u001b[0mY\u001b[0m\u001b[1;33m)\u001b[0m\u001b[1;33m\u001b[0m\u001b[0m\n\u001b[0m\u001b[0;32m    553\u001b[0m         \u001b[0mself\u001b[0m\u001b[1;33m.\u001b[0m\u001b[0m_update_feature_log_prob\u001b[0m\u001b[1;33m(\u001b[0m\u001b[1;33m)\u001b[0m\u001b[1;33m\u001b[0m\u001b[0m\n\u001b[0;32m    554\u001b[0m         \u001b[0mself\u001b[0m\u001b[1;33m.\u001b[0m\u001b[0m_update_class_log_prior\u001b[0m\u001b[1;33m(\u001b[0m\u001b[0mclass_prior\u001b[0m\u001b[1;33m=\u001b[0m\u001b[0mclass_prior\u001b[0m\u001b[1;33m)\u001b[0m\u001b[1;33m\u001b[0m\u001b[0m\n",
      "\u001b[1;32mC:\\Users\\rafae\\Anaconda3\\lib\\site-packages\\sklearn\\naive_bayes.py\u001b[0m in \u001b[0;36m_count\u001b[1;34m(self, X, Y)\u001b[0m\n\u001b[0;32m    653\u001b[0m         \u001b[1;34m\"\"\"Count and smooth feature occurrences.\"\"\"\u001b[0m\u001b[1;33m\u001b[0m\u001b[0m\n\u001b[0;32m    654\u001b[0m         \u001b[1;32mif\u001b[0m \u001b[0mnp\u001b[0m\u001b[1;33m.\u001b[0m\u001b[0many\u001b[0m\u001b[1;33m(\u001b[0m\u001b[1;33m(\u001b[0m\u001b[0mX\u001b[0m\u001b[1;33m.\u001b[0m\u001b[0mdata\u001b[0m \u001b[1;32mif\u001b[0m \u001b[0missparse\u001b[0m\u001b[1;33m(\u001b[0m\u001b[0mX\u001b[0m\u001b[1;33m)\u001b[0m \u001b[1;32melse\u001b[0m \u001b[0mX\u001b[0m\u001b[1;33m)\u001b[0m \u001b[1;33m<\u001b[0m \u001b[1;36m0\u001b[0m\u001b[1;33m)\u001b[0m\u001b[1;33m:\u001b[0m\u001b[1;33m\u001b[0m\u001b[0m\n\u001b[1;32m--> 655\u001b[1;33m             \u001b[1;32mraise\u001b[0m \u001b[0mValueError\u001b[0m\u001b[1;33m(\u001b[0m\u001b[1;34m\"Input X must be non-negative\"\u001b[0m\u001b[1;33m)\u001b[0m\u001b[1;33m\u001b[0m\u001b[0m\n\u001b[0m\u001b[0;32m    656\u001b[0m         \u001b[0mself\u001b[0m\u001b[1;33m.\u001b[0m\u001b[0mfeature_count_\u001b[0m \u001b[1;33m+=\u001b[0m \u001b[0msafe_sparse_dot\u001b[0m\u001b[1;33m(\u001b[0m\u001b[0mY\u001b[0m\u001b[1;33m.\u001b[0m\u001b[0mT\u001b[0m\u001b[1;33m,\u001b[0m \u001b[0mX\u001b[0m\u001b[1;33m)\u001b[0m\u001b[1;33m\u001b[0m\u001b[0m\n\u001b[0;32m    657\u001b[0m         \u001b[0mself\u001b[0m\u001b[1;33m.\u001b[0m\u001b[0mclass_count_\u001b[0m \u001b[1;33m+=\u001b[0m \u001b[0mY\u001b[0m\u001b[1;33m.\u001b[0m\u001b[0msum\u001b[0m\u001b[1;33m(\u001b[0m\u001b[0maxis\u001b[0m\u001b[1;33m=\u001b[0m\u001b[1;36m0\u001b[0m\u001b[1;33m)\u001b[0m\u001b[1;33m\u001b[0m\u001b[0m\n",
      "\u001b[1;31mValueError\u001b[0m: Input X must be non-negative"
     ],
     "output_type": "error"
    }
   ],
   "source": [
    "logging.info('Starting 10-fold cross validation')\n",
    "start_time = time.time()\n",
    "time_cross_mnb_pca = 0\n",
    "\n",
    "k = 10\n",
    "results_mnb_cross_pca = []\n",
    "expected_mnb_cross_pca = []\n",
    "c_cross = 0\n",
    "\n",
    "## call training and validation indexes\n",
    "for training, validation in b.cross_validation(k, m):\n",
    "    print('cross validation iteration {}'.format(c_cross))\n",
    "\n",
    "    ## list of labels in training and validation\n",
    "    y_train_cross = [y_train[y] for y in training]\n",
    "    y_val_cross = [y_train[y] for y in validation]\n",
    "\n",
    "    ## train and predict in validation data\n",
    "    clf.fit(X_train_pca[training], y_train_cross)\n",
    "    y_pred = clf.predict(X_train_pca[validation])\n",
    "\n",
    "    ## append results\n",
    "    results_mnb_cross_pca.append(y_pred)\n",
    "    expected_mnb_cross_pca.append(y_val_cross)\n",
    "    \n",
    "    c_cross += 1\n",
    "\n",
    "## calculate and store averaged results and duration\n",
    "time_cross_mnb_pca = (time.time() - start_time)\n",
    "time_cross_mnb_pca"
   ]
  },
  {
   "cell_type": "markdown",
   "metadata": {},
   "source": [
    "# Nearest Neighbors "
   ]
  },
  {
   "cell_type": "code",
   "execution_count": 53,
   "metadata": {
    "collapsed": false
   },
   "outputs": [],
   "source": [
    "clf = KNeighborsClassifier(n_neighbors=6)"
   ]
  },
  {
   "cell_type": "markdown",
   "metadata": {},
   "source": [
    "## Cross Validation without PCA"
   ]
  },
  {
   "cell_type": "code",
   "execution_count": 55,
   "metadata": {
    "collapsed": false
   },
   "outputs": [
    {
     "name": "stdout",
     "output_type": "stream",
     "text": [
      "cross validation iteration 0\n",
      "cross validation iteration 1\n",
      "cross validation iteration 2\n",
      "cross validation iteration 3\n",
      "cross validation iteration 4\n",
      "cross validation iteration 5\n",
      "cross validation iteration 6\n",
      "cross validation iteration 7\n",
      "cross validation iteration 8\n",
      "cross validation iteration 9\n"
     ]
    },
    {
     "data": {
      "text/plain": [
       "7091.431382417679"
      ]
     },
     "execution_count": 55,
     "metadata": {},
     "output_type": "execute_result"
    }
   ],
   "source": [
    "logging.info('Starting 10-fold cross validation')\n",
    "start_time = time.time()\n",
    "time_cross_knn_no_pca = 0\n",
    "\n",
    "k = 10\n",
    "results_knn_cross_no_pca = []\n",
    "expected_knn_cross_no_pca = []\n",
    "c_cross = 0\n",
    "\n",
    "## call training and validation indexes\n",
    "for training, validation in b.cross_validation(k, m):\n",
    "    print('cross validation iteration {}'.format(c_cross))\n",
    "\n",
    "    ## list of labels in training and validation\n",
    "    y_train_cross = [y_train[y] for y in training]\n",
    "    y_val_cross = [y_train[y] for y in validation]\n",
    "\n",
    "    ## train and predict in validation data\n",
    "    clf.fit(X_train[training], y_train_cross)\n",
    "    y_pred = clf.predict(X_train[validation])\n",
    "\n",
    "    ## append results\n",
    "    results_knn_cross_no_pca.append(y_pred)\n",
    "    expected_knn_cross_no_pca.append(y_val_cross)\n",
    "    \n",
    "    c_cross += 1\n",
    "\n",
    "## calculate and store averaged results and duration\n",
    "time_cross_knn_no_pca = (time.time() - start_time)\n",
    "time_cross_knn_no_pca"
   ]
  },
  {
   "cell_type": "code",
   "execution_count": 56,
   "metadata": {
    "collapsed": false
   },
   "outputs": [
    {
     "data": {
      "text/plain": [
       "(0.33576267394150955,\n",
       " 0.016744730117966754,\n",
       " 0.55462278966029999,\n",
       " 0.024707902532493962,\n",
       " 0.3807205448625644,\n",
       " 0.019555245004247837)"
      ]
     },
     "execution_count": 56,
     "metadata": {},
     "output_type": "execute_result"
    }
   ],
   "source": [
    "precall_res_knn = []\n",
    "for res,exp in zip(results_knn_cross_no_pca,expected_knn_cross_no_pca):\n",
    "    precall_res_knn.append(precision_recall_fscore_support(res, exp, average='macro'))\n",
    "b.get_precision_recall_fscore_overall(precall_res_knn,10)"
   ]
  },
  {
   "cell_type": "code",
   "execution_count": 57,
   "metadata": {
    "collapsed": false
   },
   "outputs": [
    {
     "name": "stderr",
     "output_type": "stream",
     "text": [
      "C:\\Users\\rafae\\Anaconda3\\lib\\site-packages\\sklearn\\utils\\validation.py:386: DeprecationWarning: Passing 1d arrays as data is deprecated in 0.17 and willraise ValueError in 0.19. Reshape your data either using X.reshape(-1, 1) if your data has a single feature or X.reshape(1, -1) if it contains a single sample.\n",
      "  DeprecationWarning)\n"
     ]
    },
    {
     "ename": "ValueError",
     "evalue": "could not convert string to float: 'Racing'",
     "traceback": [
      "\u001b[1;31m---------------------------------------------------------------------------\u001b[0m",
      "\u001b[1;31mValueError\u001b[0m                                Traceback (most recent call last)",
      "\u001b[1;32m<ipython-input-57-abac38d75f5f>\u001b[0m in \u001b[0;36m<module>\u001b[1;34m()\u001b[0m\n\u001b[0;32m      1\u001b[0m \u001b[1;32mfor\u001b[0m \u001b[0mres\u001b[0m\u001b[1;33m,\u001b[0m\u001b[0mexp\u001b[0m \u001b[1;32min\u001b[0m \u001b[0mzip\u001b[0m\u001b[1;33m(\u001b[0m\u001b[0mresults_knn_cross_no_pca\u001b[0m\u001b[1;33m,\u001b[0m\u001b[0mexpected_knn_cross_no_pca\u001b[0m\u001b[1;33m)\u001b[0m\u001b[1;33m:\u001b[0m\u001b[1;33m\u001b[0m\u001b[0m\n\u001b[1;32m----> 2\u001b[1;33m     \u001b[0mprint\u001b[0m\u001b[1;33m(\u001b[0m\u001b[0mclf\u001b[0m\u001b[1;33m.\u001b[0m\u001b[0mscore\u001b[0m\u001b[1;33m(\u001b[0m\u001b[0mres\u001b[0m\u001b[1;33m,\u001b[0m\u001b[0mexp\u001b[0m\u001b[1;33m)\u001b[0m\u001b[1;33m)\u001b[0m\u001b[1;33m\u001b[0m\u001b[0m\n\u001b[0m",
      "\u001b[1;32mC:\\Users\\rafae\\Anaconda3\\lib\\site-packages\\sklearn\\base.py\u001b[0m in \u001b[0;36mscore\u001b[1;34m(self, X, y, sample_weight)\u001b[0m\n\u001b[0;32m    308\u001b[0m         \"\"\"\n\u001b[0;32m    309\u001b[0m         \u001b[1;32mfrom\u001b[0m \u001b[1;33m.\u001b[0m\u001b[0mmetrics\u001b[0m \u001b[1;32mimport\u001b[0m \u001b[0maccuracy_score\u001b[0m\u001b[1;33m\u001b[0m\u001b[0m\n\u001b[1;32m--> 310\u001b[1;33m         \u001b[1;32mreturn\u001b[0m \u001b[0maccuracy_score\u001b[0m\u001b[1;33m(\u001b[0m\u001b[0my\u001b[0m\u001b[1;33m,\u001b[0m \u001b[0mself\u001b[0m\u001b[1;33m.\u001b[0m\u001b[0mpredict\u001b[0m\u001b[1;33m(\u001b[0m\u001b[0mX\u001b[0m\u001b[1;33m)\u001b[0m\u001b[1;33m,\u001b[0m \u001b[0msample_weight\u001b[0m\u001b[1;33m=\u001b[0m\u001b[0msample_weight\u001b[0m\u001b[1;33m)\u001b[0m\u001b[1;33m\u001b[0m\u001b[0m\n\u001b[0m\u001b[0;32m    311\u001b[0m \u001b[1;33m\u001b[0m\u001b[0m\n\u001b[0;32m    312\u001b[0m \u001b[1;33m\u001b[0m\u001b[0m\n",
      "\u001b[1;32mC:\\Users\\rafae\\Anaconda3\\lib\\site-packages\\sklearn\\neighbors\\classification.py\u001b[0m in \u001b[0;36mpredict\u001b[1;34m(self, X)\u001b[0m\n\u001b[0;32m    145\u001b[0m         \u001b[0mX\u001b[0m \u001b[1;33m=\u001b[0m \u001b[0mcheck_array\u001b[0m\u001b[1;33m(\u001b[0m\u001b[0mX\u001b[0m\u001b[1;33m,\u001b[0m \u001b[0maccept_sparse\u001b[0m\u001b[1;33m=\u001b[0m\u001b[1;34m'csr'\u001b[0m\u001b[1;33m)\u001b[0m\u001b[1;33m\u001b[0m\u001b[0m\n\u001b[0;32m    146\u001b[0m \u001b[1;33m\u001b[0m\u001b[0m\n\u001b[1;32m--> 147\u001b[1;33m         \u001b[0mneigh_dist\u001b[0m\u001b[1;33m,\u001b[0m \u001b[0mneigh_ind\u001b[0m \u001b[1;33m=\u001b[0m \u001b[0mself\u001b[0m\u001b[1;33m.\u001b[0m\u001b[0mkneighbors\u001b[0m\u001b[1;33m(\u001b[0m\u001b[0mX\u001b[0m\u001b[1;33m)\u001b[0m\u001b[1;33m\u001b[0m\u001b[0m\n\u001b[0m\u001b[0;32m    148\u001b[0m \u001b[1;33m\u001b[0m\u001b[0m\n\u001b[0;32m    149\u001b[0m         \u001b[0mclasses_\u001b[0m \u001b[1;33m=\u001b[0m \u001b[0mself\u001b[0m\u001b[1;33m.\u001b[0m\u001b[0mclasses_\u001b[0m\u001b[1;33m\u001b[0m\u001b[0m\n",
      "\u001b[1;32mC:\\Users\\rafae\\Anaconda3\\lib\\site-packages\\sklearn\\neighbors\\base.py\u001b[0m in \u001b[0;36mkneighbors\u001b[1;34m(self, X, n_neighbors, return_distance)\u001b[0m\n\u001b[0;32m    397\u001b[0m                 delayed(self._tree.query, check_pickle=False)(\n\u001b[0;32m    398\u001b[0m                     X[s], n_neighbors, return_distance)\n\u001b[1;32m--> 399\u001b[1;33m                 \u001b[1;32mfor\u001b[0m \u001b[0ms\u001b[0m \u001b[1;32min\u001b[0m \u001b[0mgen_even_slices\u001b[0m\u001b[1;33m(\u001b[0m\u001b[0mX\u001b[0m\u001b[1;33m.\u001b[0m\u001b[0mshape\u001b[0m\u001b[1;33m[\u001b[0m\u001b[1;36m0\u001b[0m\u001b[1;33m]\u001b[0m\u001b[1;33m,\u001b[0m \u001b[0mn_jobs\u001b[0m\u001b[1;33m)\u001b[0m\u001b[1;33m\u001b[0m\u001b[0m\n\u001b[0m\u001b[0;32m    400\u001b[0m             )\n\u001b[0;32m    401\u001b[0m             \u001b[1;32mif\u001b[0m \u001b[0mreturn_distance\u001b[0m\u001b[1;33m:\u001b[0m\u001b[1;33m\u001b[0m\u001b[0m\n",
      "\u001b[1;32mC:\\Users\\rafae\\Anaconda3\\lib\\site-packages\\sklearn\\externals\\joblib\\parallel.py\u001b[0m in \u001b[0;36m__call__\u001b[1;34m(self, iterable)\u001b[0m\n\u001b[0;32m    798\u001b[0m             \u001b[1;31m# was dispatched. In particular this covers the edge\u001b[0m\u001b[1;33m\u001b[0m\u001b[1;33m\u001b[0m\u001b[0m\n\u001b[0;32m    799\u001b[0m             \u001b[1;31m# case of Parallel used with an exhausted iterator.\u001b[0m\u001b[1;33m\u001b[0m\u001b[1;33m\u001b[0m\u001b[0m\n\u001b[1;32m--> 800\u001b[1;33m             \u001b[1;32mwhile\u001b[0m \u001b[0mself\u001b[0m\u001b[1;33m.\u001b[0m\u001b[0mdispatch_one_batch\u001b[0m\u001b[1;33m(\u001b[0m\u001b[0miterator\u001b[0m\u001b[1;33m)\u001b[0m\u001b[1;33m:\u001b[0m\u001b[1;33m\u001b[0m\u001b[0m\n\u001b[0m\u001b[0;32m    801\u001b[0m                 \u001b[0mself\u001b[0m\u001b[1;33m.\u001b[0m\u001b[0m_iterating\u001b[0m \u001b[1;33m=\u001b[0m \u001b[1;32mTrue\u001b[0m\u001b[1;33m\u001b[0m\u001b[0m\n\u001b[0;32m    802\u001b[0m             \u001b[1;32melse\u001b[0m\u001b[1;33m:\u001b[0m\u001b[1;33m\u001b[0m\u001b[0m\n",
      "\u001b[1;32mC:\\Users\\rafae\\Anaconda3\\lib\\site-packages\\sklearn\\externals\\joblib\\parallel.py\u001b[0m in \u001b[0;36mdispatch_one_batch\u001b[1;34m(self, iterator)\u001b[0m\n\u001b[0;32m    656\u001b[0m                 \u001b[1;32mreturn\u001b[0m \u001b[1;32mFalse\u001b[0m\u001b[1;33m\u001b[0m\u001b[0m\n\u001b[0;32m    657\u001b[0m             \u001b[1;32melse\u001b[0m\u001b[1;33m:\u001b[0m\u001b[1;33m\u001b[0m\u001b[0m\n\u001b[1;32m--> 658\u001b[1;33m                 \u001b[0mself\u001b[0m\u001b[1;33m.\u001b[0m\u001b[0m_dispatch\u001b[0m\u001b[1;33m(\u001b[0m\u001b[0mtasks\u001b[0m\u001b[1;33m)\u001b[0m\u001b[1;33m\u001b[0m\u001b[0m\n\u001b[0m\u001b[0;32m    659\u001b[0m                 \u001b[1;32mreturn\u001b[0m \u001b[1;32mTrue\u001b[0m\u001b[1;33m\u001b[0m\u001b[0m\n\u001b[0;32m    660\u001b[0m \u001b[1;33m\u001b[0m\u001b[0m\n",
      "\u001b[1;32mC:\\Users\\rafae\\Anaconda3\\lib\\site-packages\\sklearn\\externals\\joblib\\parallel.py\u001b[0m in \u001b[0;36m_dispatch\u001b[1;34m(self, batch)\u001b[0m\n\u001b[0;32m    564\u001b[0m \u001b[1;33m\u001b[0m\u001b[0m\n\u001b[0;32m    565\u001b[0m         \u001b[1;32mif\u001b[0m \u001b[0mself\u001b[0m\u001b[1;33m.\u001b[0m\u001b[0m_pool\u001b[0m \u001b[1;32mis\u001b[0m \u001b[1;32mNone\u001b[0m\u001b[1;33m:\u001b[0m\u001b[1;33m\u001b[0m\u001b[0m\n\u001b[1;32m--> 566\u001b[1;33m             \u001b[0mjob\u001b[0m \u001b[1;33m=\u001b[0m \u001b[0mImmediateComputeBatch\u001b[0m\u001b[1;33m(\u001b[0m\u001b[0mbatch\u001b[0m\u001b[1;33m)\u001b[0m\u001b[1;33m\u001b[0m\u001b[0m\n\u001b[0m\u001b[0;32m    567\u001b[0m             \u001b[0mself\u001b[0m\u001b[1;33m.\u001b[0m\u001b[0m_jobs\u001b[0m\u001b[1;33m.\u001b[0m\u001b[0mappend\u001b[0m\u001b[1;33m(\u001b[0m\u001b[0mjob\u001b[0m\u001b[1;33m)\u001b[0m\u001b[1;33m\u001b[0m\u001b[0m\n\u001b[0;32m    568\u001b[0m             \u001b[0mself\u001b[0m\u001b[1;33m.\u001b[0m\u001b[0mn_dispatched_batches\u001b[0m \u001b[1;33m+=\u001b[0m \u001b[1;36m1\u001b[0m\u001b[1;33m\u001b[0m\u001b[0m\n",
      "\u001b[1;32mC:\\Users\\rafae\\Anaconda3\\lib\\site-packages\\sklearn\\externals\\joblib\\parallel.py\u001b[0m in \u001b[0;36m__init__\u001b[1;34m(self, batch)\u001b[0m\n\u001b[0;32m    178\u001b[0m         \u001b[1;31m# Don't delay the application, to avoid keeping the input\u001b[0m\u001b[1;33m\u001b[0m\u001b[1;33m\u001b[0m\u001b[0m\n\u001b[0;32m    179\u001b[0m         \u001b[1;31m# arguments in memory\u001b[0m\u001b[1;33m\u001b[0m\u001b[1;33m\u001b[0m\u001b[0m\n\u001b[1;32m--> 180\u001b[1;33m         \u001b[0mself\u001b[0m\u001b[1;33m.\u001b[0m\u001b[0mresults\u001b[0m \u001b[1;33m=\u001b[0m \u001b[0mbatch\u001b[0m\u001b[1;33m(\u001b[0m\u001b[1;33m)\u001b[0m\u001b[1;33m\u001b[0m\u001b[0m\n\u001b[0m\u001b[0;32m    181\u001b[0m \u001b[1;33m\u001b[0m\u001b[0m\n\u001b[0;32m    182\u001b[0m     \u001b[1;32mdef\u001b[0m \u001b[0mget\u001b[0m\u001b[1;33m(\u001b[0m\u001b[0mself\u001b[0m\u001b[1;33m)\u001b[0m\u001b[1;33m:\u001b[0m\u001b[1;33m\u001b[0m\u001b[0m\n",
      "\u001b[1;32mC:\\Users\\rafae\\Anaconda3\\lib\\site-packages\\sklearn\\externals\\joblib\\parallel.py\u001b[0m in \u001b[0;36m__call__\u001b[1;34m(self)\u001b[0m\n\u001b[0;32m     70\u001b[0m \u001b[1;33m\u001b[0m\u001b[0m\n\u001b[0;32m     71\u001b[0m     \u001b[1;32mdef\u001b[0m \u001b[0m__call__\u001b[0m\u001b[1;33m(\u001b[0m\u001b[0mself\u001b[0m\u001b[1;33m)\u001b[0m\u001b[1;33m:\u001b[0m\u001b[1;33m\u001b[0m\u001b[0m\n\u001b[1;32m---> 72\u001b[1;33m         \u001b[1;32mreturn\u001b[0m \u001b[1;33m[\u001b[0m\u001b[0mfunc\u001b[0m\u001b[1;33m(\u001b[0m\u001b[1;33m*\u001b[0m\u001b[0margs\u001b[0m\u001b[1;33m,\u001b[0m \u001b[1;33m**\u001b[0m\u001b[0mkwargs\u001b[0m\u001b[1;33m)\u001b[0m \u001b[1;32mfor\u001b[0m \u001b[0mfunc\u001b[0m\u001b[1;33m,\u001b[0m \u001b[0margs\u001b[0m\u001b[1;33m,\u001b[0m \u001b[0mkwargs\u001b[0m \u001b[1;32min\u001b[0m \u001b[0mself\u001b[0m\u001b[1;33m.\u001b[0m\u001b[0mitems\u001b[0m\u001b[1;33m]\u001b[0m\u001b[1;33m\u001b[0m\u001b[0m\n\u001b[0m\u001b[0;32m     73\u001b[0m \u001b[1;33m\u001b[0m\u001b[0m\n\u001b[0;32m     74\u001b[0m     \u001b[1;32mdef\u001b[0m \u001b[0m__len__\u001b[0m\u001b[1;33m(\u001b[0m\u001b[0mself\u001b[0m\u001b[1;33m)\u001b[0m\u001b[1;33m:\u001b[0m\u001b[1;33m\u001b[0m\u001b[0m\n",
      "\u001b[1;32mC:\\Users\\rafae\\Anaconda3\\lib\\site-packages\\sklearn\\externals\\joblib\\parallel.py\u001b[0m in \u001b[0;36m<listcomp>\u001b[1;34m(.0)\u001b[0m\n\u001b[0;32m     70\u001b[0m \u001b[1;33m\u001b[0m\u001b[0m\n\u001b[0;32m     71\u001b[0m     \u001b[1;32mdef\u001b[0m \u001b[0m__call__\u001b[0m\u001b[1;33m(\u001b[0m\u001b[0mself\u001b[0m\u001b[1;33m)\u001b[0m\u001b[1;33m:\u001b[0m\u001b[1;33m\u001b[0m\u001b[0m\n\u001b[1;32m---> 72\u001b[1;33m         \u001b[1;32mreturn\u001b[0m \u001b[1;33m[\u001b[0m\u001b[0mfunc\u001b[0m\u001b[1;33m(\u001b[0m\u001b[1;33m*\u001b[0m\u001b[0margs\u001b[0m\u001b[1;33m,\u001b[0m \u001b[1;33m**\u001b[0m\u001b[0mkwargs\u001b[0m\u001b[1;33m)\u001b[0m \u001b[1;32mfor\u001b[0m \u001b[0mfunc\u001b[0m\u001b[1;33m,\u001b[0m \u001b[0margs\u001b[0m\u001b[1;33m,\u001b[0m \u001b[0mkwargs\u001b[0m \u001b[1;32min\u001b[0m \u001b[0mself\u001b[0m\u001b[1;33m.\u001b[0m\u001b[0mitems\u001b[0m\u001b[1;33m]\u001b[0m\u001b[1;33m\u001b[0m\u001b[0m\n\u001b[0m\u001b[0;32m     73\u001b[0m \u001b[1;33m\u001b[0m\u001b[0m\n\u001b[0;32m     74\u001b[0m     \u001b[1;32mdef\u001b[0m \u001b[0m__len__\u001b[0m\u001b[1;33m(\u001b[0m\u001b[0mself\u001b[0m\u001b[1;33m)\u001b[0m\u001b[1;33m:\u001b[0m\u001b[1;33m\u001b[0m\u001b[0m\n",
      "\u001b[1;32msklearn/neighbors/binary_tree.pxi\u001b[0m in \u001b[0;36msklearn.neighbors.kd_tree.BinaryTree.query (sklearn\\neighbors\\kd_tree.c:10404)\u001b[1;34m()\u001b[0m\n",
      "\u001b[1;32mC:\\Users\\rafae\\Anaconda3\\lib\\site-packages\\sklearn\\utils\\validation.py\u001b[0m in \u001b[0;36mcheck_array\u001b[1;34m(array, accept_sparse, dtype, order, copy, force_all_finite, ensure_2d, allow_nd, ensure_min_samples, ensure_min_features, warn_on_dtype, estimator)\u001b[0m\n\u001b[0;32m    371\u001b[0m                                       force_all_finite)\n\u001b[0;32m    372\u001b[0m     \u001b[1;32melse\u001b[0m\u001b[1;33m:\u001b[0m\u001b[1;33m\u001b[0m\u001b[0m\n\u001b[1;32m--> 373\u001b[1;33m         \u001b[0marray\u001b[0m \u001b[1;33m=\u001b[0m \u001b[0mnp\u001b[0m\u001b[1;33m.\u001b[0m\u001b[0marray\u001b[0m\u001b[1;33m(\u001b[0m\u001b[0marray\u001b[0m\u001b[1;33m,\u001b[0m \u001b[0mdtype\u001b[0m\u001b[1;33m=\u001b[0m\u001b[0mdtype\u001b[0m\u001b[1;33m,\u001b[0m \u001b[0morder\u001b[0m\u001b[1;33m=\u001b[0m\u001b[0morder\u001b[0m\u001b[1;33m,\u001b[0m \u001b[0mcopy\u001b[0m\u001b[1;33m=\u001b[0m\u001b[0mcopy\u001b[0m\u001b[1;33m)\u001b[0m\u001b[1;33m\u001b[0m\u001b[0m\n\u001b[0m\u001b[0;32m    374\u001b[0m \u001b[1;33m\u001b[0m\u001b[0m\n\u001b[0;32m    375\u001b[0m         \u001b[1;32mif\u001b[0m \u001b[0mensure_2d\u001b[0m\u001b[1;33m:\u001b[0m\u001b[1;33m\u001b[0m\u001b[0m\n",
      "\u001b[1;31mValueError\u001b[0m: could not convert string to float: 'Racing'"
     ],
     "output_type": "error"
    }
   ],
   "source": [
    "for res,exp in zip(results_knn_cross_no_pca,expected_knn_cross_no_pca):\n",
    "    print(clf.score(res,exp))"
   ]
  },
  {
   "cell_type": "code",
   "execution_count": 58,
   "metadata": {
    "collapsed": false
   },
   "outputs": [
    {
     "name": "stdout",
     "output_type": "stream",
     "text": [
      "cross validation iteration 0\n",
      "cross validation iteration 1\n",
      "cross validation iteration 2\n",
      "cross validation iteration 3\n",
      "cross validation iteration 4\n",
      "cross validation iteration 5\n",
      "cross validation iteration 6\n",
      "cross validation iteration 7\n",
      "cross validation iteration 8\n",
      "cross validation iteration 9\n"
     ]
    },
    {
     "data": {
      "text/plain": [
       "2012.990224123001"
      ]
     },
     "execution_count": 58,
     "metadata": {},
     "output_type": "execute_result"
    }
   ],
   "source": [
    "logging.info('Starting 10-fold cross validation')\n",
    "start_time = time.time()\n",
    "time_cross_knn_pca = 0\n",
    "\n",
    "k = 10\n",
    "results_knn_cross_pca = []\n",
    "expected_knn_cross_pca = []\n",
    "c_cross = 0\n",
    "\n",
    "## call training and validation indexes\n",
    "for training, validation in b.cross_validation(k, m):\n",
    "    print('cross validation iteration {}'.format(c_cross))\n",
    "\n",
    "    ## list of labels in training and validation\n",
    "    y_train_cross = [y_train[y] for y in training]\n",
    "    y_val_cross = [y_train[y] for y in validation]\n",
    "\n",
    "    ## train and predict in validation data\n",
    "    clf.fit(X_train_pca[training], y_train_cross)\n",
    "    y_pred = clf.predict(X_train_pca[validation])\n",
    "\n",
    "    ## append results\n",
    "    results_knn_cross_pca.append(y_pred)\n",
    "    expected_knn_cross_pca.append(y_val_cross)\n",
    "    \n",
    "    c_cross += 1\n",
    "\n",
    "## calculate and store averaged results and duration\n",
    "time_cross_mnb_pca = (time.time() - start_time)\n",
    "time_cross_mnb_pca"
   ]
  },
  {
   "cell_type": "code",
   "execution_count": 60,
   "metadata": {
    "collapsed": false
   },
   "outputs": [
    {
     "data": {
      "text/plain": [
       "(0.39685868832311472,\n",
       " 0.010353264057966135,\n",
       " 0.56005632316017429,\n",
       " 0.013473237679498797,\n",
       " 0.43579173885310957,\n",
       " 0.008296883607966543)"
      ]
     },
     "execution_count": 60,
     "metadata": {},
     "output_type": "execute_result"
    }
   ],
   "source": [
    "precall_res_knn_pca = []\n",
    "for res,exp in zip(results_knn_cross_pca,expected_knn_cross_pca):\n",
    "    precall_res_knn_pca.append(precision_recall_fscore_support(res, exp, average='macro'))\n",
    "b.get_precision_recall_fscore_overall(precall_res_knn_pca,10)"
   ]
  },
  {
   "cell_type": "code",
   "execution_count": null,
   "metadata": {
    "collapsed": true
   },
   "outputs": [],
   "source": [
    ""
   ]
  }
 ],
 "metadata": {
  "kernelspec": {
   "display_name": "Python 3",
   "language": "python",
   "name": "python3"
  },
  "language_info": {
   "codemirror_mode": {
    "name": "ipython",
    "version": 3.0
   },
   "file_extension": ".py",
   "mimetype": "text/x-python",
   "name": "python",
   "nbconvert_exporter": "python",
   "pygments_lexer": "ipython3",
   "version": "3.5.1"
  }
 },
 "nbformat": 4,
 "nbformat_minor": 0
}