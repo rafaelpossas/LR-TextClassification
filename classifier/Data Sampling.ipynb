{
 "cells": [
  {
   "cell_type": "markdown",
   "metadata": {},
   "source": [
    "# Sampling and Initial Analysis"
   ]
  },
  {
   "cell_type": "code",
   "execution_count": 24,
   "metadata": {
    "collapsed": true
   },
   "outputs": [],
   "source": [
    "import csv, random\n",
    "import numpy as np\n",
    "from collections import Counter \n",
    "\n",
    "def load_data():\n",
    "\n",
    "    content = extract_data('assignment1_2016S1/training_data.csv')\n",
    "    X_train = [x[1:] for x in content]\n",
    "\n",
    "    content = extract_data('assignment1_2016S1/training_labels.csv')\n",
    "    y_train = [y[1] for y in content]\n",
    "\n",
    "    content = extract_data('assignment1_2016S1/test_data.csv')\n",
    "    X_test = [x[1:] for x in content]\n",
    "\n",
    "    return X_train, y_train, X_test\n",
    "\n",
    "def extract_data(filename):\n",
    "\n",
    "    content = []\n",
    "    with open(filename) as f:\n",
    "        reader = csv.reader(f)\n",
    "        for row in reader:\n",
    "            content.append(row)\n",
    "    return content"
   ]
  },
  {
   "cell_type": "markdown",
   "metadata": {},
   "source": [
    "### Load Data"
   ]
  },
  {
   "cell_type": "code",
   "execution_count": 25,
   "metadata": {
    "collapsed": true
   },
   "outputs": [],
   "source": [
    "X_train, y_train, X_test = load_data()"
   ]
  },
  {
   "cell_type": "markdown",
   "metadata": {},
   "source": [
    "### Basic Analysis"
   ]
  },
  {
   "cell_type": "code",
   "execution_count": 26,
   "metadata": {
    "collapsed": false
   },
   "outputs": [
    {
     "data": {
      "text/plain": [
       "((20104, 13626), 20104, (2233, 13626))"
      ]
     },
     "execution_count": 26,
     "metadata": {},
     "output_type": "execute_result"
    }
   ],
   "source": [
    "(len(X_train), len(X_train[0])), len(y_train),(len(X_test), len(X_test[0]))"
   ]
  },
  {
   "cell_type": "code",
   "execution_count": 27,
   "metadata": {
    "collapsed": false
   },
   "outputs": [
    {
     "name": "stdout",
     "output_type": "stream",
     "text": [
      "Counter({'Health and Fitness': 766, 'Education': 743, 'Media and Video': 738, 'Books and Reference': 730, 'Photography': 729, 'Lifestyle': 726, 'Casual': 726, 'Social': 726, 'Music and Audio': 725, 'Shopping': 723, 'Transportation': 716, 'Communication': 716, 'Personalization': 715, 'Travel and Local': 713, 'News and Magazines': 710, 'Tools': 709, 'Cards and Casino': 703, 'Finance': 702, 'Brain and Puzzle': 699, 'Entertainment': 692, 'Business': 684, 'Arcade and Action': 671, 'Medical': 657, 'Productivity': 656, 'Racing': 654, 'Sports': 621, 'Weather': 484, 'Libraries and Demo': 479, 'Sports Games': 432, 'Comics': 359})\n"
     ]
    }
   ],
   "source": [
    "c = Counter(y_train)\n",
    "print(c)"
   ]
  },
  {
   "cell_type": "markdown",
   "metadata": {},
   "source": [
    "### Random Sampling"
   ]
  },
  {
   "cell_type": "code",
   "execution_count": 28,
   "metadata": {
    "collapsed": false
   },
   "outputs": [
    {
     "data": {
      "text/plain": [
       "((2010, 13626), 2010)"
      ]
     },
     "execution_count": 28,
     "metadata": {},
     "output_type": "execute_result"
    }
   ],
   "source": [
    "random.seed(123)\n",
    "index_sample = random.sample(range(len(y_train)), len(y_train)//10)\n",
    "X_train_sample = [X_train[i] for i in index_sample]\n",
    "y_train_sample = [y_train[i] for i in index_sample]\n",
    "(len(X_train_sample), len(X_train_sample[0])), len(y_train_sample)"
   ]
  },
  {
   "cell_type": "code",
   "execution_count": 29,
   "metadata": {
    "collapsed": false
   },
   "outputs": [
    {
     "name": "stdout",
     "output_type": "stream",
     "text": [
      "Counter({'Health and Fitness': 90, 'Personalization': 88, 'Entertainment': 82, 'News and Magazines': 82, 'Tools': 80, 'Casual': 79, 'Media and Video': 78, 'Communication': 75, 'Sports': 74, 'Finance': 74, 'Brain and Puzzle': 72, 'Education': 72, 'Travel and Local': 70, 'Photography': 70, 'Shopping': 69, 'Transportation': 68, 'Productivity': 68, 'Books and Reference': 66, 'Arcade and Action': 66, 'Cards and Casino': 62, 'Music and Audio': 58, 'Lifestyle': 58, 'Social': 58, 'Racing': 58, 'Medical': 54, 'Business': 53, 'Libraries and Demo': 52, 'Weather': 52, 'Sports Games': 47, 'Comics': 35})\n"
     ]
    }
   ],
   "source": [
    "c_sample = Counter(y_train_sample)\n",
    "print(c_sample)"
   ]
  },
  {
   "cell_type": "markdown",
   "metadata": {},
   "source": [
    "### Save Data"
   ]
  },
  {
   "cell_type": "code",
   "execution_count": 32,
   "metadata": {
    "collapsed": false
   },
   "outputs": [],
   "source": [
    "with open('training_data_sample.csv', 'w') as f:\n",
    "    f.write('\\n'.join([', '.join(x) for x in X_train_sample]))"
   ]
  },
  {
   "cell_type": "code",
   "execution_count": null,
   "metadata": {
    "collapsed": true
   },
   "outputs": [],
   "source": [
    "with open('training_labels_sample.csv', 'w') as f:\n",
    "    f.write(\"\\n\".join(y_train_sample))"
   ]
  }
 ],
 "metadata": {
  "kernelspec": {
   "display_name": "Python 3",
   "language": "python",
   "name": "python3"
  },
  "language_info": {
   "codemirror_mode": {
    "name": "ipython",
    "version": 3
   },
   "file_extension": ".py",
   "mimetype": "text/x-python",
   "name": "python",
   "nbconvert_exporter": "python",
   "pygments_lexer": "ipython3",
   "version": "3.5.1"
  }
 },
 "nbformat": 4,
 "nbformat_minor": 0
}
